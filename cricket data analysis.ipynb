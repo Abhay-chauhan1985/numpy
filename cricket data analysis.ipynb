{
 "cells": [
  {
   "cell_type": "code",
   "execution_count": 10,
   "metadata": {},
   "outputs": [
    {
     "name": "stdout",
     "output_type": "stream",
     "text": [
      "mean 88.25\n",
      "median 88.0\n",
      "std dev 11.882234638316145\n",
      "correlation coefficient [[1.         0.83849862]\n",
      " [0.83849862 1.        ]]\n"
     ]
    }
   ],
   "source": [
    "# cricket data analysis\n",
    "#score of four batsman of two innings\n",
    "cricket=[[180,78],[215,102],[210,98],[100,75]]\n",
    "import numpy as np\n",
    "np_cricket=np.array(cricket)  \n",
    "mean=np.mean(np_cricket[:,1])                      # mean calculation of second column\n",
    "median=np.median(np_cricket[:,1])                  #meadian calculation of second column\n",
    "standard_deviation=np.std(np_cricket[:,1])         #standard deviation of second column\n",
    "corr_coeff=np.corrcoef(np_cricket[:,0],np_cricket[:,1]) # correlation coefficient\n",
    "print(\"mean\",mean)\n",
    "print(\"median\",median)\n",
    "print(\"std dev\",standard_deviation)\n",
    "print(\"correlation coefficient\",corr_coeff)"
   ]
  },
  {
   "cell_type": "code",
   "execution_count": null,
   "metadata": {},
   "outputs": [],
   "source": []
  },
  {
   "cell_type": "code",
   "execution_count": null,
   "metadata": {},
   "outputs": [],
   "source": []
  }
 ],
 "metadata": {
  "kernelspec": {
   "display_name": "Python 3",
   "language": "python",
   "name": "python3"
  },
  "language_info": {
   "codemirror_mode": {
    "name": "ipython",
    "version": 3
   },
   "file_extension": ".py",
   "mimetype": "text/x-python",
   "name": "python",
   "nbconvert_exporter": "python",
   "pygments_lexer": "ipython3",
   "version": "3.8.5"
  }
 },
 "nbformat": 4,
 "nbformat_minor": 4
}
